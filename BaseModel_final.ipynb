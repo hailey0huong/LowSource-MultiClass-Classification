{
 "cells": [
  {
   "cell_type": "code",
   "execution_count": 0,
   "metadata": {
    "colab": {},
    "colab_type": "code",
    "id": "6z--hQCrDnbF"
   },
   "outputs": [],
   "source": [
    "import pandas as pd\n",
    "import numpy as np\n",
    "import matplotlib.pyplot as plt\n",
    "import seaborn as sns\n",
    "from sklearn.model_selection import train_test_split\n",
    "from utils import *\n",
    "from pathlib import Path"
   ]
  },
  {
   "cell_type": "markdown",
   "metadata": {
    "colab_type": "text",
    "id": "hSHMMlfn-br5"
   },
   "source": [
    "# Parameters"
   ]
  },
  {
   "cell_type": "code",
   "execution_count": 0,
   "metadata": {
    "colab": {},
    "colab_type": "code",
    "id": "L5MefCVe-e-7"
   },
   "outputs": [],
   "source": [
    "DATA_PATH=Path('Data/experiment')\n",
    "DATA_PATH.mkdir(exist_ok=True)\n",
    "\n",
    "PATH = Path('Data/')\n",
    "PATH.mkdir(exist_ok= True)\n",
    "\n",
    "OUT_PATH = Path('Output/')\n",
    "OUT_PATH.mkdir(exist_ok = True)\n",
    "\n"
   ]
  },
  {
   "cell_type": "code",
   "execution_count": 0,
   "metadata": {
    "colab": {},
    "colab_type": "code",
    "id": "kjkBIqv7-aRM"
   },
   "outputs": [],
   "source": [
    "#Set up paramenters, change filename to test different datasets\n",
    "\n",
    "args = {\n",
    "    \"data_dir\": PATH,\n",
    "    \"full_data_dir\": DATA_PATH,\n",
    "    \"output_dir\": OUT_PATH,\n",
    "    \"train_file\": 'train_3000_train.csv',\n",
    "    \"val_file\": 'train_3000_val.csv',\n",
    "    'test_file': 'test_onehot.csv',\n",
    "    \"model_name\": 'model_3000.h5'\n",
    "}"
   ]
  },
  {
   "cell_type": "markdown",
   "metadata": {
    "colab_type": "text",
    "id": "bxTltnYvJhcv"
   },
   "source": [
    "# Tokenization"
   ]
  },
  {
   "cell_type": "code",
   "execution_count": 0,
   "metadata": {
    "colab": {},
    "colab_type": "code",
    "id": "rjYw1endDp6H"
   },
   "outputs": [],
   "source": [
    "train_data = pd.read_csv(args['full_data_dir']/args['train_file'])\n",
    "val_data = pd.read_csv(args['full_data_dir']/args['val_file'])\n",
    "test_data = pd.read_csv(args['data_dir']/args['test_file'])"
   ]
  },
  {
   "cell_type": "code",
   "execution_count": 171,
   "metadata": {
    "colab": {
     "base_uri": "https://localhost:8080/",
     "height": 68
    },
    "colab_type": "code",
    "id": "glkFVKv2D4sp",
    "outputId": "eb7edef9-bb3a-4f4b-e799-c3138708e7b3"
   },
   "outputs": [
    {
     "name": "stdout",
     "output_type": "stream",
     "text": [
      "(2400, 6)\n",
      "(600, 6)\n",
      "(50000, 6)\n"
     ]
    }
   ],
   "source": [
    "print(train_data.shape)\n",
    "print(val_data.shape)\n",
    "print(test_data.shape)"
   ]
  },
  {
   "cell_type": "code",
   "execution_count": 0,
   "metadata": {
    "colab": {},
    "colab_type": "code",
    "id": "qWwYZ_dCFNWH"
   },
   "outputs": [],
   "source": [
    "#Concat train and validation test \n",
    "\n",
    "train_all = pd.concat([train_data, val_data])\n",
    "train_all = train_all.sample(frac = 1)"
   ]
  },
  {
   "cell_type": "code",
   "execution_count": 173,
   "metadata": {
    "colab": {
     "base_uri": "https://localhost:8080/",
     "height": 34
    },
    "colab_type": "code",
    "id": "8lFYTWbwF766",
    "outputId": "483f3e55-b8be-4bd8-c9c0-2c9f527ccc10"
   },
   "outputs": [
    {
     "data": {
      "text/plain": [
       "(3000, 6)"
      ]
     },
     "execution_count": 173,
     "metadata": {
      "tags": []
     },
     "output_type": "execute_result"
    }
   ],
   "source": [
    "train_all.shape"
   ]
  },
  {
   "cell_type": "code",
   "execution_count": 174,
   "metadata": {
    "colab": {
     "base_uri": "https://localhost:8080/",
     "height": 204
    },
    "colab_type": "code",
    "id": "3g2TE7_KD-Oa",
    "outputId": "b9ef47d5-9220-4634-cdc3-da1c24f267ee"
   },
   "outputs": [
    {
     "data": {
      "text/html": [
       "<div>\n",
       "<style scoped>\n",
       "    .dataframe tbody tr th:only-of-type {\n",
       "        vertical-align: middle;\n",
       "    }\n",
       "\n",
       "    .dataframe tbody tr th {\n",
       "        vertical-align: top;\n",
       "    }\n",
       "\n",
       "    .dataframe thead th {\n",
       "        text-align: right;\n",
       "    }\n",
       "</style>\n",
       "<table border=\"1\" class=\"dataframe\">\n",
       "  <thead>\n",
       "    <tr style=\"text-align: right;\">\n",
       "      <th></th>\n",
       "      <th>text</th>\n",
       "      <th>rating_1</th>\n",
       "      <th>rating_2</th>\n",
       "      <th>rating_3</th>\n",
       "      <th>rating_4</th>\n",
       "      <th>rating_5</th>\n",
       "    </tr>\n",
       "  </thead>\n",
       "  <tbody>\n",
       "    <tr>\n",
       "      <th>0</th>\n",
       "      <td>\\n Curious as to why this place hadn't closed ...</td>\n",
       "      <td>0</td>\n",
       "      <td>1</td>\n",
       "      <td>0</td>\n",
       "      <td>0</td>\n",
       "      <td>0</td>\n",
       "    </tr>\n",
       "    <tr>\n",
       "      <th>1</th>\n",
       "      <td>\\n Sure, you could go to one of the steakhouse...</td>\n",
       "      <td>0</td>\n",
       "      <td>0</td>\n",
       "      <td>0</td>\n",
       "      <td>0</td>\n",
       "      <td>1</td>\n",
       "    </tr>\n",
       "    <tr>\n",
       "      <th>2</th>\n",
       "      <td>\\n i have never had such bad service in my lif...</td>\n",
       "      <td>1</td>\n",
       "      <td>0</td>\n",
       "      <td>0</td>\n",
       "      <td>0</td>\n",
       "      <td>0</td>\n",
       "    </tr>\n",
       "    <tr>\n",
       "      <th>3</th>\n",
       "      <td>\\n Great food and great staff. Very friendly a...</td>\n",
       "      <td>0</td>\n",
       "      <td>0</td>\n",
       "      <td>0</td>\n",
       "      <td>0</td>\n",
       "      <td>1</td>\n",
       "    </tr>\n",
       "    <tr>\n",
       "      <th>4</th>\n",
       "      <td>\\n Panda Express sounds good. I only gave them...</td>\n",
       "      <td>0</td>\n",
       "      <td>1</td>\n",
       "      <td>0</td>\n",
       "      <td>0</td>\n",
       "      <td>0</td>\n",
       "    </tr>\n",
       "  </tbody>\n",
       "</table>\n",
       "</div>"
      ],
      "text/plain": [
       "                                                text  rating_1  rating_2  \\\n",
       "0  \\n Curious as to why this place hadn't closed ...         0         1   \n",
       "1  \\n Sure, you could go to one of the steakhouse...         0         0   \n",
       "2  \\n i have never had such bad service in my lif...         1         0   \n",
       "3  \\n Great food and great staff. Very friendly a...         0         0   \n",
       "4  \\n Panda Express sounds good. I only gave them...         0         1   \n",
       "\n",
       "   rating_3  rating_4  rating_5  \n",
       "0         0         0         0  \n",
       "1         0         0         1  \n",
       "2         0         0         0  \n",
       "3         0         0         1  \n",
       "4         0         0         0  "
      ]
     },
     "execution_count": 174,
     "metadata": {
      "tags": []
     },
     "output_type": "execute_result"
    }
   ],
   "source": [
    "train_data.head()"
   ]
  },
  {
   "cell_type": "code",
   "execution_count": 0,
   "metadata": {
    "colab": {},
    "colab_type": "code",
    "id": "6bBC0QtxEZih"
   },
   "outputs": [],
   "source": [
    "label_cols = list(train_data.columns[1:])"
   ]
  },
  {
   "cell_type": "code",
   "execution_count": 0,
   "metadata": {
    "colab": {},
    "colab_type": "code",
    "id": "AVOguUDlECeI"
   },
   "outputs": [],
   "source": [
    "text_train = train_data.text.values\n",
    "text_test = test_data.text.values\n",
    "label_train = train_data[label_cols].values\n",
    "label_test = test_data[label_cols].values"
   ]
  },
  {
   "cell_type": "code",
   "execution_count": 0,
   "metadata": {
    "colab": {},
    "colab_type": "code",
    "id": "QOq44LXLEXux"
   },
   "outputs": [],
   "source": [
    "#Set up basic config parameters:\n",
    "maxLen = 256\n",
    "maxFeatures = 20000\n",
    "embed_size = 50"
   ]
  },
  {
   "cell_type": "code",
   "execution_count": 0,
   "metadata": {
    "colab": {},
    "colab_type": "code",
    "id": "bSm3lN7uE9yR"
   },
   "outputs": [],
   "source": [
    "#Text preprocessing using Keras:\n",
    "from keras.preprocessing.text import Tokenizer\n",
    "\n",
    "tokenizer = Tokenizer(num_words = maxFeatures)\n",
    "tokenizer.fit_on_texts(list(text_train))\n",
    "tokenized_train = tokenizer.texts_to_sequences(text_train)\n",
    "tokenized_test = tokenizer.texts_to_sequences(text_test)"
   ]
  },
  {
   "cell_type": "code",
   "execution_count": 0,
   "metadata": {
    "colab": {},
    "colab_type": "code",
    "id": "qK2uO2YBJZJq"
   },
   "outputs": [],
   "source": [
    "#Pad sequence using Keras:\n",
    "from keras.preprocessing.sequence import pad_sequences\n",
    "\n",
    "X_trainset = pad_sequences(tokenized_train, maxlen = maxLen)\n",
    "X_testset = pad_sequences(tokenized_test, maxlen = maxLen)"
   ]
  },
  {
   "cell_type": "markdown",
   "metadata": {
    "colab_type": "text",
    "id": "RbMrIuipJetG"
   },
   "source": [
    "# Model"
   ]
  },
  {
   "cell_type": "code",
   "execution_count": 0,
   "metadata": {
    "colab": {},
    "colab_type": "code",
    "id": "H9Cat9MoKnjq"
   },
   "outputs": [],
   "source": [
    "from keras.models import Model\n",
    "from keras.layers import Dense, Input, Dropout, LSTM, Activation, Bidirectional, GlobalMaxPooling1D\n",
    "from keras.layers.embeddings import Embedding"
   ]
  },
  {
   "cell_type": "code",
   "execution_count": 0,
   "metadata": {
    "colab": {},
    "colab_type": "code",
    "id": "wONAmgVGKthp"
   },
   "outputs": [],
   "source": [
    "# Load GloVe model:\n",
    "word_to_index, index_to_word, word_to_vec_map = read_glove_vecs('Data/glove.6B.50d.txt')"
   ]
  },
  {
   "cell_type": "code",
   "execution_count": 0,
   "metadata": {
    "colab": {},
    "colab_type": "code",
    "id": "ikXuiHu2Ku_6"
   },
   "outputs": [],
   "source": [
    "def pretrained_embedding_layer(word_to_vec_map, word_to_index):\n",
    "    \"\"\"\n",
    "    Creates a Keras Embedding() layer and loads in pre-trained GloVe 50-dimensional vectors.\n",
    "    \n",
    "    Arguments:\n",
    "    word_to_vec_map -- dictionary mapping words to their GloVe vector representation.\n",
    "    word_to_index -- dictionary mapping from words to their indices in the vocabulary (400,001 words)\n",
    "\n",
    "    Returns:\n",
    "    embedding_layer -- pretrained layer Keras instance\n",
    "    \"\"\"\n",
    "    \n",
    "    vocab_len = len(word_to_index) + 1                  \n",
    "    \n",
    "    # define dimensionality of your GloVe word vectors\n",
    "    emb_dim = word_to_vec_map[\"cucumber\"].shape[0] \n",
    "    \n",
    "    # Initialize the embedding matrix \n",
    "    emb_matrix = np.zeros((vocab_len, emb_dim))\n",
    "    \n",
    "    # Set each row \"index\" of the embedding matrix to be the word vector representation of the \"index\"th word of the vocabulary\n",
    "    for word, index in word_to_index.items():\n",
    "        emb_matrix[index, :] = word_to_vec_map[word]\n",
    "\n",
    "    # Define Keras embedding layer  \n",
    "    embedding_layer = Embedding(vocab_len, emb_dim, trainable=False)\n",
    "\n",
    "    # Build the embedding layer\n",
    "    embedding_layer.build((None,))\n",
    "    \n",
    "    # Set the weights of the embedding layer to the embedding matrix\n",
    "    embedding_layer.set_weights([emb_matrix])\n",
    "    \n",
    "    return embedding_layer"
   ]
  },
  {
   "cell_type": "code",
   "execution_count": 0,
   "metadata": {
    "colab": {},
    "colab_type": "code",
    "id": "RbbPOCVZeMYE"
   },
   "outputs": [],
   "source": [
    "def MultiClassClf_base(input_shape, word_to_vec_map, word_to_index):\n",
    "    \n",
    "    sentence_indices = Input(shape = input_shape, dtype= 'int32')\n",
    "    \n",
    "    embedding_layer = pretrained_embedding_layer(word_to_vec_map, word_to_index)\n",
    "    embeddings = embedding_layer(sentence_indices)   \n",
    "    \n",
    "    X = Bidirectional(LSTM(50,return_sequences =True))(embeddings)\n",
    "    X = Dropout(0.1)(X)\n",
    "    X = GlobalMaxPooling1D()(X)\n",
    "    X = Dense(50, activation = 'relu')(X)\n",
    "    X = Dropout(0.1)(X)\n",
    "    X = Dense(5)(X)\n",
    "    X = Activation('softmax')(X)\n",
    "\n",
    "    model = Model(inputs = sentence_indices, outputs = X)\n",
    "\n",
    "    return model"
   ]
  },
  {
   "cell_type": "code",
   "execution_count": 0,
   "metadata": {
    "colab": {},
    "colab_type": "code",
    "id": "Ai4pbPvheMYK"
   },
   "outputs": [],
   "source": [
    "def build_model():\n",
    "    model = MultiClassClf_base((maxLen,), word_to_vec_map, word_to_index)\n",
    "    model.compile(loss='categorical_crossentropy', optimizer='Adam', metrics=['accuracy'])\n",
    "    return model"
   ]
  },
  {
   "cell_type": "markdown",
   "metadata": {
    "colab_type": "text",
    "id": "zwl9iAMYJ3Ax"
   },
   "source": [
    "# Training"
   ]
  },
  {
   "cell_type": "code",
   "execution_count": 185,
   "metadata": {
    "colab": {
     "base_uri": "https://localhost:8080/",
     "height": 85
    },
    "colab_type": "code",
    "id": "ZNw_iruBeMYM",
    "outputId": "026d518a-0043-481a-a6cc-e8781c594b70"
   },
   "outputs": [
    {
     "name": "stdout",
     "output_type": "stream",
     "text": [
      "processing fold # 0\n",
      "processing fold # 1\n",
      "processing fold # 2\n",
      "processing fold # 3\n"
     ]
    }
   ],
   "source": [
    "# Perform kfold cross validation\n",
    "k = 4\n",
    "num_val_samples = len(X_trainset) // k\n",
    "num_epochs = 25\n",
    "all_loss_histories = []\n",
    "all_accuracy_histories = []\n",
    "for i in range(k):\n",
    "    print('processing fold #', i)\n",
    "    # Prepare the validation data: data from partition # k\n",
    "    X_val = X_trainset[i * num_val_samples: (i + 1) * num_val_samples]\n",
    "    y_val = label_train[i * num_val_samples: (i + 1) * num_val_samples]\n",
    "\n",
    "    # Prepare the training data: data from all other partitions\n",
    "    partial_X_train = np.concatenate(\n",
    "        [X_trainset[:i * num_val_samples],\n",
    "         X_trainset[(i + 1) * num_val_samples:]],\n",
    "        axis=0)\n",
    "    partial_y_train = np.concatenate(\n",
    "        [label_train[:i * num_val_samples],\n",
    "         label_train[(i + 1) * num_val_samples:]],\n",
    "        axis=0)\n",
    "\n",
    "    # Build the Keras model (already compiled)\n",
    "    model = build_model()\n",
    "    # Train the model (in silent mode, verbose=0)\n",
    "    history = model.fit(partial_X_train, partial_y_train,\n",
    "                        validation_data=(X_val, y_val),\n",
    "                        epochs=num_epochs, batch_size=32, verbose=0)\n",
    "    loss_history = history.history['val_loss']\n",
    "    all_loss_histories.append(loss_history)\n",
    "    val_acc_history = history.history['val_acc']\n",
    "    all_accuracy_histories.append(val_acc_history)"
   ]
  },
  {
   "cell_type": "code",
   "execution_count": 0,
   "metadata": {
    "colab": {},
    "colab_type": "code",
    "id": "3rlCGTRFe2pX"
   },
   "outputs": [],
   "source": [
    "average_loss_history = [np.mean([x[i] for x in all_loss_histories]) for i in range(num_epochs)]\n",
    "average_acc_history = [np.mean([x[i] for x in all_accuracy_histories]) for i in range(num_epochs)]"
   ]
  },
  {
   "cell_type": "code",
   "execution_count": 187,
   "metadata": {
    "colab": {
     "base_uri": "https://localhost:8080/",
     "height": 295
    },
    "colab_type": "code",
    "id": "AO7Q2RNwe2pZ",
    "outputId": "fc6f8a8f-025e-4777-9230-3d43b6a70fcc"
   },
   "outputs": [
    {
     "data": {
      "image/png": "[encoded data removed]",
      "text/plain": [
       "<Figure size 432x288 with 1 Axes>"
      ]
     },
     "metadata": {
      "tags": []
     },
     "output_type": "display_data"
    }
   ],
   "source": [
    "#Plot epoch vs loss\n",
    "plt.plot(range(1, len(average_loss_history) + 1), average_loss_history)\n",
    "plt.xlabel('Epochs')\n",
    "plt.ylabel('Validation Loss')\n",
    "plt.title('Validation Loss')\n",
    "plt.show()"
   ]
  },
  {
   "cell_type": "code",
   "execution_count": 188,
   "metadata": {
    "colab": {
     "base_uri": "https://localhost:8080/",
     "height": 295
    },
    "colab_type": "code",
    "id": "psJwnPEge2pe",
    "outputId": "f211ab40-d54c-4ca9-aa73-6ae9118c6a0b"
   },
   "outputs": [
    {
     "data": {
      "image/png": "[encoded data removed]",
      "text/plain": [
       "<Figure size 432x288 with 1 Axes>"
      ]
     },
     "metadata": {
      "tags": []
     },
     "output_type": "display_data"
    }
   ],
   "source": [
    "#Plot epoch vs accuracy\n",
    "plt.plot(range(1, len(average_acc_history) + 1), average_acc_history)\n",
    "plt.xlabel('Epochs')\n",
    "plt.ylabel('Validation Accuracy')\n",
    "plt.title('Validation Accuracy')\n",
    "plt.show()"
   ]
  },
  {
   "cell_type": "code",
   "execution_count": 189,
   "metadata": {
    "colab": {
     "base_uri": "https://localhost:8080/",
     "height": 34
    },
    "colab_type": "code",
    "id": "0xCMsfdie2pk",
    "outputId": "aff2d939-a937-49d8-f00c-2d77ef94aa6d"
   },
   "outputs": [
    {
     "data": {
      "text/plain": [
       "<keras.callbacks.History at 0x7f9081ff54a8>"
      ]
     },
     "execution_count": 189,
     "metadata": {
      "tags": []
     },
     "output_type": "execute_result"
    }
   ],
   "source": [
    "# Get a fresh, compiled model.\n",
    "model = build_model()\n",
    "# Train it on the entirety of the data.\n",
    "model.fit(X_trainset, label_train,\n",
    "          epochs=10, batch_size=32, verbose=0)\n"
   ]
  },
  {
   "cell_type": "markdown",
   "metadata": {
    "colab_type": "text",
    "id": "Ijsq4tSqKbZZ"
   },
   "source": [
    "# Evaluation"
   ]
  },
  {
   "cell_type": "code",
   "execution_count": 190,
   "metadata": {
    "colab": {
     "base_uri": "https://localhost:8080/",
     "height": 85
    },
    "colab_type": "code",
    "id": "Jyu2igFNvfNT",
    "outputId": "d83fd42e-b60f-4f84-ac84-a87de42b443a"
   },
   "outputs": [
    {
     "name": "stdout",
     "output_type": "stream",
     "text": [
      "50000/50000 [==============================] - 492s 10ms/step\n",
      "\n",
      "Test accuracy =  0.34446\n",
      "Test loss =  1.4872553073120116\n"
     ]
    }
   ],
   "source": [
    "loss, acc = model.evaluate(X_testset, label_test)\n",
    "print()\n",
    "print(\"Test accuracy = \", acc)\n",
    "print ('Test loss = ', loss)"
   ]
  },
  {
   "cell_type": "code",
   "execution_count": 191,
   "metadata": {
    "colab": {
     "base_uri": "https://localhost:8080/",
     "height": 34
    },
    "colab_type": "code",
    "id": "eggZFik7w10b",
    "outputId": "14cbe1bf-e4ea-4aab-e087-8be4f69b1fd9"
   },
   "outputs": [
    {
     "name": "stdout",
     "output_type": "stream",
     "text": [
      "50000/50000 [==============================] - 20s 408us/step\n"
     ]
    }
   ],
   "source": [
    "#Predict label\n",
    "label_test_pred = model.predict([X_testset], batch_size=1024, verbose=1)"
   ]
  },
  {
   "cell_type": "code",
   "execution_count": 192,
   "metadata": {
    "colab": {
     "base_uri": "https://localhost:8080/",
     "height": 34
    },
    "colab_type": "code",
    "id": "NUQ59gb-yOAQ",
    "outputId": "77aef6fa-482d-402f-c154-4d2615cd002c"
   },
   "outputs": [
    {
     "name": "stdout",
     "output_type": "stream",
     "text": [
      "f1-macro =  0.39911570670633884\n"
     ]
    }
   ],
   "source": [
    "#Compute metrics\n",
    "from sklearn.metrics import fbeta_score\n",
    "\n",
    "preds2 = np.argmax(label_test_pred, axis = 1)\n",
    "y_true = np.argmax(label_test, axis = 1)\n",
    "\n",
    "fbeta = fbeta_score(preds2, y_true, average='weighted', beta=1)\n",
    "\n",
    "print('f1-macro = ',fbeta)"
   ]
  },
  {
   "cell_type": "code",
   "execution_count": 0,
   "metadata": {
    "colab": {},
    "colab_type": "code",
    "id": "9UASVZPSLpGJ"
   },
   "outputs": [],
   "source": [
    "# Save test result:\n",
    "result = {\n",
    "    \"Test loss\": loss,\n",
    "    \"Accuracy \": acc,\n",
    "    \"f1 - macro\": fbeta\n",
    "}\n",
    "\n",
    "output_eval_file = os.path.join(OUT_PATH, \"test_results.txt\")\n",
    "if os.path.exists(output_eval_file):\n",
    "    cmd = 'a'\n",
    "else: cmd = 'w'\n",
    "  \n",
    "  \n",
    "with open(output_eval_file, cmd) as writer:\n",
    "    writer.write(\"****** Test Results******\"+\"\\n\")\n",
    "    writer.write(\"Model \"+ args['model_name']+\"\\n\")\n",
    "    for key in sorted(result.keys()):\n",
    "        writer.write(\"%s = %s\\n\" % (key, str(result[key])))\n"
   ]
  },
  {
   "cell_type": "code",
   "execution_count": 0,
   "metadata": {
    "colab": {},
    "colab_type": "code",
    "id": "FtS70AN0zMYW"
   },
   "outputs": [],
   "source": [
    "#Save model\n",
    "model.save(os.path.join(args['output_dir'],args['model_name']))"
   ]
  },
  {
   "cell_type": "code",
   "execution_count": 0,
   "metadata": {
    "colab": {},
    "colab_type": "code",
    "id": "W-K-3KXhTqLy"
   },
   "outputs": [],
   "source": []
  }
 ],
 "metadata": {
  "accelerator": "GPU",
  "colab": {
   "collapsed_sections": [],
   "name": "BaseModel_final.ipynb",
   "provenance": [],
   "version": "0.3.2"
  },
  "kernelspec": {
   "display_name": "Python 3",
   "language": "python",
   "name": "python3"
  },
  "language_info": {
   "codemirror_mode": {
    "name": "ipython",
    "version": 3
   },
   "file_extension": ".py",
   "mimetype": "text/x-python",
   "name": "python",
   "nbconvert_exporter": "python",
   "pygments_lexer": "ipython3",
   "version": "3.6.5"
  },
  "latex_envs": {
   "LaTeX_envs_menu_present": true,
   "autoclose": false,
   "autocomplete": true,
   "bibliofile": "biblio.bib",
   "cite_by": "apalike",
   "current_citInitial": 1,
   "eqLabelWithNumbers": true,
   "eqNumInitial": 1,
   "hotkeys": {
    "equation": "Ctrl-E",
    "itemize": "Ctrl-I"
   },
   "labels_anchors": false,
   "latex_user_defs": false,
   "report_style_numbering": false,
   "user_envs_cfg": false
  }
 },
 "nbformat": 4,
 "nbformat_minor": 1
}
